{
 "cells": [
  {
   "cell_type": "markdown",
   "id": "225d2126-4725-42b8-97d1-e090ed8b39be",
   "metadata": {},
   "source": [
    "## Mushroom Classification\r\n",
    "A project aiming to classificate mushrooms based on recorded characteristics into poisonous or edible"
   ]
  },
  {
   "cell_type": "code",
   "execution_count": 5,
   "id": "258c14be-aacd-4cba-b8c5-181fc1d0a82f",
   "metadata": {},
   "outputs": [],
   "source": [
    "# Data manipulation\n",
    "import pandas as pd\n",
    "import numpy as np\n",
    "\n",
    "# Data visualization\n",
    "import matplotlib.pyplot as plt\n",
    "import seaborn as sns\n",
    "\n",
    "# Display plots in the notebook\n",
    "%matplotlib inline"
   ]
  },
  {
   "cell_type": "code",
   "execution_count": 27,
   "id": "532fc0c7-266c-456e-8031-766002cbc6eb",
   "metadata": {},
   "outputs": [],
   "source": [
    "# Importing the data\n",
    "data = pd.read_csv('C:/Users/liaba/Documents/mushroom_classification/mushroom_data/train.csv')\n",
    "test_data = pd.read_csv('C:/Users/liaba/Documents/mushroom_classification/mushroom_data/test.csv')"
   ]
  },
  {
   "cell_type": "code",
   "execution_count": null,
   "id": "224f86c8-68e3-40c6-8cec-34ab647a75bb",
   "metadata": {},
   "outputs": [],
   "source": [
    "# Create mappings for categorical features\n",
    "cap_shape_mapping = {'b': 1, 'c': 2, 'x': 3, 'f': 4, 's': 5, 'p': 6, 'o': 7}\n",
    "cap_surface_mapping = {'i': 1, 'g': 2, 'y': 3, 's': 4, 'h': 5, 'l': 6, 'k': 7, 't': 8, 'w': 9, 'e': 10}\n",
    "cap_color_mapping = {'n': 1, 'b': 2, 'g': 3, 'r': 4, 'p': 5, 'u': 6, 'e': 7, 'w': 8, 'y': 9, 'l': 10, 'o': 11, 'k': 12}\n",
    "bruises_mapping = {'t': 1, 'f': 0}\n",
    "gill_attachment_mapping = {'a': 1, 'x': 2, 'd': 3, 'e': 4, 's': 5, 'p': 6, 'f': 7, '?': 8}\n",
    "gill_spacing_mapping = {'c': 1, 'd': 2, 'f': 3}\n",
    "gill_color_mapping = {'n': 1, 'b': 2, 'g': 3, 'r': 4, 'p': 5, 'u': 6, 'e': 7, 'w': 8, 'y': 9, 'l': 10, 'o': 11, 'k': 12, 'f': 13}\n",
    "stem_root_mapping = {'b': 1, 's': 2, 'c': 3, 'u': 4, 'e': 5, 'z': 6, 'r': 7}\n",
    "stem_surface_mapping = {'i': 1, 'g': 2, 'y': 3, 's': 4, 'h': 5, 'l': 6, 'k': 7, 't': 8, 'w': 9, 'e': 10, 'f': 11}\n",
    "stem_color_mapping = {'n': 1, 'b': 2, 'g': 3, 'r': 4, 'p': 5, 'u': 6, 'e': 7, 'w': 8, 'y': 9, 'l': 10, 'o': 11, 'k': 12, 'f': 13}\n",
    "veil_type_mapping = {'p': 1, 'u': 2}\n",
    "veil_color_mapping = {'n': 1, 'b': 2, 'g': 3, 'r': 4, 'p': 5, 'u': 6, 'e': 7, 'w': 8, 'y': 9, 'l': 10, 'o': 11, 'k': 12, 'f': 13}\n",
    "has_ring_mapping = {'t': 1, 'f': 0}\n",
    "ring_type_mapping = {'c': 1, 'e': 2, 'r': 3, 'g': 4, 'l': 5, 'p': 6, 's': 7, 'z': 8, 'y': 9, 'm': 10, 'f': 11, '?': 12}\n",
    "spore_print_color_mapping = {'n': 1, 'b': 2, 'g': 3, 'r': 4, 'p': 5, 'u': 6, 'e': 7, 'w': 8, 'y': 9, 'l': 10, 'o': 11, 'k': 12, 'f': 13}\n",
    "habitat_mapping = {'g': 1, 'l': 2, 'm': 3, 'p': 4, 'h': 5, 'u': 6, 'w': 7, 'd': 8}\n",
    "season_mapping = {'s': 1, 'u': 2, 'a': 3, 'w': 4}\n",
    "\n",
    "# Define a function to map values with default as NaN\n",
    "def map_with_nan(series, mapping):\n",
    "    return series.map(lambda x: mapping.get(x, np.nan))\n",
    "\n",
    "# Apply mappings with NaN handling\n",
    "data['cap-shape'] = map_with_nan(data['cap-shape'], cap_shape_mapping)\n",
    "data['cap-surface'] = map_with_nan(data['cap-surface'], cap_surface_mapping)\n",
    "data['cap-color'] = map_with_nan(data['cap-color'], cap_color_mapping)\n",
    "data['does-bruise-or-bleed'] = map_with_nan(data['does-bruise-or-bleed'], bruises_mapping)\n",
    "data['gill-attachment'] = map_with_nan(data['gill-attachment'], gill_attachment_mapping)\n",
    "data['gill-spacing'] = map_with_nan(data['gill-spacing'], gill_spacing_mapping)\n",
    "data['gill-color'] = map_with_nan(data['gill-color'], gill_color_mapping)\n",
    "data['stem-root'] = map_with_nan(data['stem-root'], stem_root_mapping)\n",
    "data['stem-surface'] = map_with_nan(data['stem-surface'], stem_surface_mapping)\n",
    "data['stem-color'] = map_with_nan(data['stem-color'], stem_color_mapping)\n",
    "data['veil-type'] = map_with_nan(data['veil-type'], veil_type_mapping)\n",
    "data['veil-color'] = map_with_nan(data['veil-color'], veil_color_mapping)\n",
    "data['has-ring'] = map_with_nan(data['has-ring'], has_ring_mapping)\n",
    "data['ring-type'] = map_with_nan(data['ring-type'], ring_type_mapping)\n",
    "data['spore-print-color'] = map_with_nan(data['spore-print-color'], spore_print_color_mapping)\n",
    "data['habitat'] = map_with_nan(data['habitat'], habitat_mapping)\n",
    "data['season'] = map_with_nan(data['season'], season_mapping)\n",
    "\n",
    "# Convert float columns to appropriate types\n",
    "data['cap-diameter'] = data['cap-diameter'].astype(float)\n",
    "data['stem-height'] = data['stem-height'].astype(float)\n",
    "data['stem-width'] = data['stem-width'].astype(float)"
   ]
  },
  {
   "cell_type": "code",
   "execution_count": null,
   "id": "2cdd7062-af4f-4d15-a57e-9fed35486771",
   "metadata": {},
   "outputs": [],
   "source": [
    "data.head()"
   ]
  }
 ],
 "metadata": {
  "kernelspec": {
   "display_name": "Python 3 (ipykernel)",
   "language": "python",
   "name": "python3"
  },
  "language_info": {
   "codemirror_mode": {
    "name": "ipython",
    "version": 3
   },
   "file_extension": ".py",
   "mimetype": "text/x-python",
   "name": "python",
   "nbconvert_exporter": "python",
   "pygments_lexer": "ipython3",
   "version": "3.12.4"
  }
 },
 "nbformat": 4,
 "nbformat_minor": 5
}
