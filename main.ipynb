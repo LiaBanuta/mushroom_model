{
 "cells": [
  {
   "cell_type": "markdown",
   "id": "225d2126-4725-42b8-97d1-e090ed8b39be",
   "metadata": {},
   "source": [
    "## Mushroom Classification\r\n",
    "A project aiming to classificate mushrooms based on recorded characteristics into poisonous or edible"
   ]
  },
  {
   "cell_type": "code",
   "execution_count": 3,
   "id": "258c14be-aacd-4cba-b8c5-181fc1d0a82f",
   "metadata": {},
   "outputs": [],
   "source": [
    "# Data manipulation\n",
    "import pandas as pd\n",
    "import numpy as np\n",
    "\n",
    "# Data visualization\n",
    "import matplotlib.pyplot as plt\n",
    "import seaborn as sns\n",
    "\n",
    "# Modeling\n",
    "import lightgbm as lgb\n",
    "\n",
    "# Data cleaning\n",
    "from sklearn.preprocessing import LabelEncoder\n",
    "\n",
    "N_FOLDS = 5\n",
    "MAX_EVALS = 5\n",
    "\n",
    "# Display plots in the notebook\n",
    "%matplotlib inline"
   ]
  },
  {
   "cell_type": "code",
   "execution_count": 4,
   "id": "532fc0c7-266c-456e-8031-766002cbc6eb",
   "metadata": {},
   "outputs": [],
   "source": [
    "# Importing the data\n",
    "data = pd.read_csv('C:/Users/liaba/Documents/mushroom_classification/mushroom_data/train.csv')\n",
    "test_data = pd.read_csv('C:/Users/liaba/Documents/mushroom_classification/mushroom_data/test.csv')\n",
    "data.set_index('id', inplace=True)\n",
    "test_data.set_index('id', inplace=True)"
   ]
  },
  {
   "cell_type": "code",
   "execution_count": 5,
   "id": "5404e6de-badd-4c0a-83d6-3ad33aa608a5",
   "metadata": {},
   "outputs": [
    {
     "data": {
      "text/plain": [
       "<Axes: xlabel='class', ylabel='count'>"
      ]
     },
     "execution_count": 5,
     "metadata": {},
     "output_type": "execute_result"
    },
    {
     "data": {
      "image/png": "[encoded data removed]",
      "text/plain": [
       "<Figure size 640x480 with 1 Axes>"
      ]
     },
     "metadata": {},
     "output_type": "display_data"
    }
   ],
   "source": [
    "sns.countplot(x='class',data=data)"
   ]
  },
  {
   "cell_type": "code",
   "execution_count": 6,
   "id": "79bb9f3a-566c-4990-b53f-1117b59f4ecf",
   "metadata": {},
   "outputs": [],
   "source": [
    "# Setting the data type of the columns\n",
    "data['cap-diameter'] = pd.to_numeric(data['cap-diameter'])\n",
    "data['stem-height'] = pd.to_numeric(data['stem-height'])\n",
    "data['stem-width'] = pd.to_numeric(data['stem-width'])"
   ]
  },
  {
   "cell_type": "code",
   "execution_count": 7,
   "id": "c39b01aa-f8d3-4bf5-9e69-79ef26a6be86",
   "metadata": {},
   "outputs": [],
   "source": [
    "# Define allowed values and encoding mappings\n",
    "class_val = {'e', 'p'}\n",
    "cap_val = {'b', 'c', 'x', 'f', 's', 'p', 'o'}\n",
    "surf_val = {'i', 'g', 'y', 's', 'h', 'l', 'k', 't', 'w', 'e'}\n",
    "color_val = {'n', 'b', 'g', 'r', 'p', 'u', 'e', 'w', 'y', 'l', 'o', 'k'}\n",
    "bruise_val = {'t', 'f'}\n",
    "gill_val = {'a', 'x', 'd', 'e', 's', 'p', 'f'}\n",
    "spacing_val = {'c', 'd', 'f'}\n",
    "gill_col_val = {'n', 'b', 'g', 'r', 'p', 'u', 'e', 'w', 'y', 'l', 'o', 'k', 'f'}\n",
    "root_val = {'b', 's', 'c', 'u', 'e', 'z', 'r'}\n",
    "veil_val = {'p', 'u'}\n",
    "ring_val = {'t', 'f'}\n",
    "ing_val = {'c', 'e', 'r', 'g', 'l', 'p', 's', 'z', 'y', 'm', 'f'}\n",
    "habitat_val = {'g', 'l', 'm', 'p', 'h', 'u', 'w', 'd'}\n",
    "season_val = {'s', 'u', 'a', 'w'}\n",
    "\n",
    "class_enc = {'e': 1, 'p': 0}\n",
    "cap_enc = {'b': 1, 'c': 2, 'x': 3, 'f': 4, 's': 5, 'p': 6, 'o': 7, '0': 0}\n",
    "surf_enc = {'i': 1, 'g': 2, 'y': 3, 's': 4, 'h': 5, 'l': 6, 'k': 7, 't': 8, 'w': 9, 'e': 10, '0': 0}\n",
    "color_enc = {'n': 1, 'b': 2, 'g': 3, 'r': 4, 'p': 5, 'u': 6, 'e': 7, 'w': 8, 'y': 9, 'l': 10, 'o': 11, 'k': 12, '0': 0}\n",
    "bruise_enc = {'t': 1, 'f': 0, '0':0}\n",
    "gill_enc = {'a': 1, 'x': 2, 'd': 3, 'e': 4, 's': 5, 'p': 6, 'f': 7, '0': 0}\n",
    "spacing_enc = {'c': 1, 'd': 2, 'f': 3, '0': 0}\n",
    "gill_col_enc = {'n': 1, 'b': 2, 'g': 3, 'r': 4, 'p': 5, 'u': 6, 'e': 7, 'w': 8, 'y': 9, 'l': 10, 'o': 11, 'k': 12, 'f':13, '0': 0}\n",
    "root_enc = {'b': 1, 's': 2, 'c': 3, 'u': 4, 'e': 5, 'z': 6, 'r': 7, '0': 0}\n",
    "veil_enc = {'p': 1, 'u': 2, '0': 0}\n",
    "ring_enc = {'t': 1, 'f': 0, '0': 0}\n",
    "ing_enc = {'c': 1, 'e': 2, 'r': 3, 'g': 4, 'l': 5, 'p': 6, 's': 7, 'z': 8, 'y': 9, 'm': 10, 'f': 11, '0': 0}\n",
    "habitat_enc = {'g': 1, 'l': 2, 'm': 3, 'p': 4, 'h': 5, 'u': 6, 'w': 7, 'd': 8, '0': 0}\n",
    "season_enc = {'s': 1, 'u': 2, 'a': 3, 'w': 4, '0': 0}\n",
    "\n",
    "# Replace values not in the sets with '0'\n",
    "data['cap-shape'] = data['cap-shape'].apply(lambda x: x if x in cap_val else '0')\n",
    "data['cap-surface'] = data['cap-surface'].apply(lambda x: x if x in surf_val else '0')\n",
    "data['cap-color'] = data['cap-color'].apply(lambda x: x if x in color_val else '0')\n",
    "data['does-bruise-or-bleed'] = data['does-bruise-or-bleed'].apply(lambda x: x if x in bruise_val else '0')\n",
    "data['gill-attachment'] = data['gill-attachment'].apply(lambda x: x if x in gill_val else '0')\n",
    "data['gill-spacing'] = data['gill-spacing'].apply(lambda x: x if x in spacing_val else '0')\n",
    "data['gill-color'] = data['gill-color'].apply(lambda x: x if x in gill_col_val else '0')\n",
    "data['stem-root'] = data['stem-root'].apply(lambda x: x if x in root_val else '0')\n",
    "data['stem-surface'] = data['stem-surface'].apply(lambda x: x if x in surf_val else '0')\n",
    "data['stem-color'] = data['stem-color'].apply(lambda x: x if x in gill_col_val else '0')\n",
    "data['veil-type'] = data['veil-type'].apply(lambda x: x if x in veil_val else '0')\n",
    "data['veil-color'] = data['veil-color'].apply(lambda x: x if x in gill_col_val else '0')\n",
    "data['has-ring'] = data['has-ring'].apply(lambda x: x if x in ring_val else '0')\n",
    "data['ring-type'] = data['ring-type'].apply(lambda x: x if x in ing_val else '0')\n",
    "data['spore-print-color'] = data ['spore-print-color'].apply(lambda x: x if x in color_val else '0')\n",
    "data['habitat'] = data['habitat'].apply(lambda x: x if x in habitat_val else '0')\n",
    "data['season'] = data['season'].apply(lambda x: x if x in season_val else '0')\n",
    "\n",
    "# Apply the custom mapping\n",
    "data['cap-shape_encoded'] = data['cap-shape'].map(cap_enc)\n",
    "data['cap-surface_encoded'] = data['cap-surface'].map(surf_enc)\n",
    "data['cap-color_encoded'] = data['cap-color'].map(color_enc)\n",
    "data['does-bruise-or-bleed_encoded'] = data['does-bruise-or-bleed'].map(bruise_enc)\n",
    "data['gill-attachment_encoded'] = data['gill-attachment'].map(gill_enc)\n",
    "data['gill-spacing_encoded'] = data['gill-spacing'].map(spacing_enc)\n",
    "data['gill-color_encoded'] = data['gill-color'].map(gill_col_enc)\n",
    "data['stem-root_encoded'] = data['stem-root'].map(root_enc)\n",
    "data['stem-surface_encoded'] = data['stem-surface'].map(surf_enc)\n",
    "data['stem-color_encoded'] = data['stem-color'].map(gill_col_enc)\n",
    "data['veil-type_encoded'] = data['veil-type'].map(veil_enc)\n",
    "data['veil-color_encoded'] = data['veil-color'].map(gill_col_enc)\n",
    "data['has-ring_encoded'] = data['has-ring'].map(ring_enc)\n",
    "data['ring-type_encoded'] = data['ring-type'].map(ing_enc)\n",
    "data['spore-print-color_encoded'] = data['spore-print-color'].map(color_enc)\n",
    "data['habitat_encoded'] = data['habitat'].map(habitat_enc)\n",
    "data['season_encoded'] = data['season'].map(season_enc)\n",
    "data['class_encoded'] = data['class'].map(class_enc)\n",
    "\n",
    "# Rename the columns directly to the original names\n",
    "data['cap-shape'] = data['cap-shape_encoded'].copy()\n",
    "data['cap-surface'] = data['cap-surface_encoded'].copy()\n",
    "data['cap-color'] = data['cap-color_encoded'].copy()\n",
    "data['does-bruise-or-bleed'] = data['does-bruise-or-bleed_encoded'].copy()\n",
    "data['gill-attachment'] = data['gill-attachment_encoded'].copy()\n",
    "data['gill-spacing'] = data['gill-spacing_encoded'].copy()\n",
    "data['gill-color'] = data['gill-color_encoded'].copy()\n",
    "data['stem-root'] = data['stem-root_encoded'].copy()\n",
    "data['stem-surface'] = data['stem-surface_encoded'].copy()\n",
    "data['stem-color'] = data['stem-color_encoded'].copy()\n",
    "data['veil-type'] = data['veil-type_encoded'].copy()\n",
    "data['has-ring'] = data['has-ring_encoded'].copy()\n",
    "data['ring-type'] = data['ring-type_encoded'].copy()\n",
    "data['spore-print-color'] = data['spore-print-color_encoded'].copy()\n",
    "data['habitat'] = data['habitat_encoded'].copy()\n",
    "data['season'] = data['season_encoded'].copy()\n",
    "data['class'] = data['class_encoded'].copy()\n",
    "data['veil-color'] = data['veil-color_encoded'].copy()\n",
    "\n",
    "# Drop the temporary encoded columns\n",
    "data = data.drop(['class_encoded','cap-shape_encoded','cap-surface_encoded','cap-color_encoded','does-bruise-or-bleed_encoded','gill-attachment_encoded','gill-spacing_encoded','gill-color_encoded','stem-root_encoded','stem-surface_encoded','stem-color_encoded','veil-type_encoded', 'veil-color_encoded','has-ring_encoded','ring-type_encoded','spore-print-color_encoded','habitat_encoded','season_encoded'], axis=1)\n"
   ]
  },
  {
   "cell_type": "code",
   "execution_count": 8,
   "id": "c5e4abf6-0dca-41f2-9f38-3bab7c628e93",
   "metadata": {},
   "outputs": [],
   "source": [
    "test_data['cap-shape'] = test_data['cap-shape'].apply(lambda x: x if x in cap_val else '0')\n",
    "test_data['cap-surface'] = test_data['cap-surface'].apply(lambda x: x if x in surf_val else '0')\n",
    "test_data['cap-color'] = test_data['cap-color'].apply(lambda x: x if x in color_val else '0')\n",
    "test_data['does-bruise-or-bleed'] = test_data['does-bruise-or-bleed'].apply(lambda x: x if x in bruise_val else '0')\n",
    "test_data['gill-attachment'] = test_data['gill-attachment'].apply(lambda x: x if x in gill_val else '0')\n",
    "test_data['gill-spacing'] = test_data['gill-spacing'].apply(lambda x: x if x in spacing_val else '0')\n",
    "test_data['gill-color'] = test_data['gill-color'].apply(lambda x: x if x in gill_col_val else '0')\n",
    "test_data['stem-root'] = test_data['stem-root'].apply(lambda x: x if x in root_val else '0')\n",
    "test_data['stem-surface'] = test_data['stem-surface'].apply(lambda x: x if x in surf_val else '0')\n",
    "test_data['stem-color'] = test_data['stem-color'].apply(lambda x: x if x in gill_col_val else '0')\n",
    "test_data['veil-type'] = test_data['veil-type'].apply(lambda x: x if x in veil_val else '0')\n",
    "test_data['veil-color'] = test_data['veil-color'].apply(lambda x: x if x in gill_col_val else '0')\n",
    "test_data['has-ring'] = test_data['has-ring'].apply(lambda x: x if x in ring_val else '0')\n",
    "test_data['ring-type'] = test_data['ring-type'].apply(lambda x: x if x in ing_val else '0')\n",
    "test_data['spore-print-color'] = test_data['spore-print-color'].apply(lambda x: x if x in color_val else '0')\n",
    "test_data['habitat'] = test_data['habitat'].apply(lambda x: x if x in habitat_val else '0')\n",
    "test_data['season'] = test_data['season'].apply(lambda x: x if x in season_val else '0')\n",
    "\n",
    "test_data['cap-shape_encoded'] = test_data['cap-shape'].map(cap_enc)\n",
    "test_data['cap-surface_encoded'] = test_data['cap-surface'].map(surf_enc)\n",
    "test_data['cap-color_encoded'] = test_data['cap-color'].map(color_enc)\n",
    "test_data['does-bruise-or-bleed_encoded'] = test_data['does-bruise-or-bleed'].map(bruise_enc)\n",
    "test_data['gill-attachment_encoded'] = test_data['gill-attachment'].map(gill_enc)\n",
    "test_data['gill-spacing_encoded'] = test_data['gill-spacing'].map(spacing_enc)\n",
    "test_data['gill-color_encoded'] = test_data['gill-color'].map(gill_col_enc)\n",
    "test_data['stem-root_encoded'] = test_data['stem-root'].map(root_enc)\n",
    "test_data['stem-surface_encoded'] = test_data['stem-surface'].map(surf_enc)\n",
    "test_data['stem-color_encoded'] = test_data['stem-color'].map(gill_col_enc)\n",
    "test_data['veil-type_encoded'] = test_data['veil-type'].map(veil_enc)\n",
    "test_data['veil-color_encoded'] = test_data['veil-color'].map(gill_col_enc)\n",
    "test_data['has-ring_encoded'] = test_data['has-ring'].map(ring_enc)\n",
    "test_data['ring-type_encoded'] = test_data['ring-type'].map(ing_enc)\n",
    "test_data['spore-print-color_encoded'] = test_data['spore-print-color'].map(color_enc)\n",
    "test_data['habitat_encoded'] = test_data['habitat'].map(habitat_enc)\n",
    "test_data['season_encoded'] = test_data['season'].map(season_enc)\n",
    "\n",
    "test_data['cap-shape'] = test_data['cap-shape_encoded'].copy()\n",
    "test_data['cap-surface'] = test_data['cap-surface_encoded'].copy()\n",
    "test_data['cap-color'] = test_data['cap-color_encoded'].copy()\n",
    "test_data['does-bruise-or-bleed'] = test_data['does-bruise-or-bleed_encoded'].copy()\n",
    "test_data['gill-attachment'] = test_data['gill-attachment_encoded'].copy()\n",
    "test_data['gill-spacing'] = test_data['gill-spacing_encoded'].copy()\n",
    "test_data['gill-color'] = test_data['gill-color_encoded'].copy()\n",
    "test_data['stem-root'] = test_data['stem-root_encoded'].copy()\n",
    "test_data['stem-surface'] = test_data['stem-surface_encoded'].copy()\n",
    "test_data['stem-color'] = test_data['stem-color_encoded'].copy()\n",
    "test_data['veil-type'] = test_data['veil-type_encoded'].copy()\n",
    "test_data['has-ring'] = test_data['has-ring_encoded'].copy()\n",
    "test_data['ring-type'] = test_data['ring-type_encoded'].copy()\n",
    "test_data['spore-print-color'] = test_data['spore-print-color_encoded'].copy()\n",
    "test_data['habitat'] = test_data['habitat_encoded'].copy()\n",
    "test_data['season'] = test_data['season_encoded'].copy()\n",
    "test_data['veil-color'] = test_data['veil-color_encoded'].copy()\n",
    "\n",
    "# Drop the temporary encoded columns\n",
    "test_data = test_data.drop(['cap-shape_encoded','cap-surface_encoded','cap-color_encoded','does-bruise-or-bleed_encoded','gill-attachment_encoded','gill-spacing_encoded','gill-color_encoded','stem-root_encoded','stem-surface_encoded','stem-color_encoded','veil-type_encoded', 'veil-color_encoded','has-ring_encoded','ring-type_encoded','spore-print-color_encoded','habitat_encoded','season_encoded'], axis=1)"
   ]
  },
  {
   "cell_type": "code",
   "execution_count": 9,
   "id": "2450edd9-2237-4386-a377-ea69b6404e48",
   "metadata": {},
   "outputs": [],
   "source": [
    "from sklearn import tree\n",
    "from sklearn.model_selection import train_test_split\n",
    "from sklearn import metrics\n",
    "X = data.drop(columns=['class'], axis=1)\n",
    "y = data['class']\n",
    "X_train, X_test, y_train, y_test = train_test_split(X, y, test_size=0.33, random_state=42)\n",
    "clf = tree.DecisionTreeClassifier()\n",
    "clf = clf.fit(X_train, y_train)"
   ]
  },
  {
   "cell_type": "code",
   "execution_count": 11,
   "id": "7f542d6e-bc16-4202-89b9-b4acf164e934",
   "metadata": {},
   "outputs": [],
   "source": [
    "train_set = lgb.Dataset(data = X_train, label = y_train)\n",
    "test_set = lgb.Dataset(data = X_test, label = y_test)"
   ]
  },
  {
   "cell_type": "code",
   "execution_count": null,
   "id": "69d8e19b-d68e-4a66-ba83-b183ad69b2bd",
   "metadata": {},
   "outputs": [
    {
     "name": "stdout",
     "output_type": "stream",
     "text": [
      "[LightGBM] [Warning] Unknown parameter: importance_type\n",
      "[LightGBM] [Warning] Unknown parameter: importance_type\n",
      "[LightGBM] [Warning] Unknown parameter: importance_type\n",
      "[LightGBM] [Warning] Unknown parameter: importance_type\n",
      "[LightGBM] [Info] Auto-choosing row-wise multi-threading, the overhead of testing was 0.138487 seconds.\n",
      "You can set `force_row_wise=true` to remove the overhead.\n",
      "And if memory is not enough, you can set `force_col_wise=true`.\n",
      "[LightGBM] [Info] Total Bins 898\n",
      "[LightGBM] [Info] Number of data points in the train set: 1670682, number of used features: 20\n",
      "[LightGBM] [Warning] Unknown parameter: importance_type\n",
      "[LightGBM] [Warning] Unknown parameter: importance_type\n",
      "[LightGBM] [Warning] Unknown parameter: importance_type\n",
      "[LightGBM] [Info] Auto-choosing row-wise multi-threading, the overhead of testing was 0.097364 seconds.\n",
      "You can set `force_row_wise=true` to remove the overhead.\n",
      "And if memory is not enough, you can set `force_col_wise=true`.\n",
      "[LightGBM] [Info] Total Bins 898\n",
      "[LightGBM] [Info] Number of data points in the train set: 1670682, number of used features: 20\n",
      "[LightGBM] [Warning] Unknown parameter: importance_type\n",
      "[LightGBM] [Warning] Unknown parameter: importance_type\n",
      "[LightGBM] [Warning] Unknown parameter: importance_type\n",
      "[LightGBM] [Info] Auto-choosing row-wise multi-threading, the overhead of testing was 0.102697 seconds.\n",
      "You can set `force_row_wise=true` to remove the overhead.\n",
      "And if memory is not enough, you can set `force_col_wise=true`.\n",
      "[LightGBM] [Info] Total Bins 898\n",
      "[LightGBM] [Info] Number of data points in the train set: 1670682, number of used features: 20\n",
      "[LightGBM] [Warning] Unknown parameter: importance_type\n",
      "[LightGBM] [Warning] Unknown parameter: importance_type\n",
      "[LightGBM] [Warning] Unknown parameter: importance_type\n",
      "[LightGBM] [Info] Auto-choosing row-wise multi-threading, the overhead of testing was 0.104314 seconds.\n",
      "You can set `force_row_wise=true` to remove the overhead.\n",
      "And if memory is not enough, you can set `force_col_wise=true`.\n",
      "[LightGBM] [Info] Total Bins 898\n",
      "[LightGBM] [Info] Number of data points in the train set: 1670683, number of used features: 20\n",
      "[LightGBM] [Warning] Unknown parameter: importance_type\n",
      "[LightGBM] [Warning] Unknown parameter: importance_type\n",
      "[LightGBM] [Warning] Unknown parameter: importance_type\n",
      "[LightGBM] [Info] Auto-choosing row-wise multi-threading, the overhead of testing was 0.141847 seconds.\n",
      "You can set `force_row_wise=true` to remove the overhead.\n",
      "And if memory is not enough, you can set `force_col_wise=true`.\n",
      "[LightGBM] [Info] Total Bins 898\n",
      "[LightGBM] [Info] Number of data points in the train set: 1670683, number of used features: 20\n",
      "[LightGBM] [Warning] Unknown parameter: importance_type\n",
      "[LightGBM] [Info] Start training from score 0.452922\n",
      "[LightGBM] [Info] Start training from score 0.452922\n",
      "[LightGBM] [Info] Start training from score 0.452922\n",
      "[LightGBM] [Info] Start training from score 0.452922\n",
      "[LightGBM] [Info] Start training from score 0.452922\n",
      "Training until validation scores don't improve for 100 rounds\n"
     ]
    }
   ],
   "source": [
    "# Get default hyperparameters\n",
    "model = lgb.LGBMClassifier()\n",
    "default_params = model.get_params()\n",
    "\n",
    "# Remove the number of estimators because we set this to 10000 in the cv call\n",
    "del default_params['n_estimators']\n",
    "\n",
    "# Cross validation with early stopping\n",
    "cv_results = lgb.cv(default_params, train_set, num_boost_round = 10000,  callbacks=[lgb.early_stopping(stopping_rounds=100)], metrics = 'auc', nfold = N_FOLDS, seed = 42)"
   ]
  },
  {
   "cell_type": "code",
   "execution_count": null,
   "id": "c1dbc117-442f-4650-9d7b-6d1c3f776b22",
   "metadata": {},
   "outputs": [],
   "source": [
    "y_pred = clf.predict(X_test)\n",
    "# Model Accuracy, how often is the classifier correct?\n",
    "print(\"Accuracy:\",metrics.accuracy_score(y_test, y_pred))"
   ]
  },
  {
   "cell_type": "code",
   "execution_count": null,
   "id": "6d9403c7-d167-4def-b2c8-1e5e4b975220",
   "metadata": {},
   "outputs": [],
   "source": [
    "submission = clf.predict(test_data)"
   ]
  },
  {
   "cell_type": "code",
   "execution_count": null,
   "id": "b40fad48-8451-4673-b71d-0174be9c7d18",
   "metadata": {},
   "outputs": [],
   "source": [
    "submission_df = pd.DataFrame(data=submission, index=test_data.index, columns=['class'])\n",
    "submission_df['class'] = submission_df['class'].replace({1: 'e', 0: 'p'})\n",
    "submission_df.head()"
   ]
  },
  {
   "cell_type": "code",
   "execution_count": null,
   "id": "5103fef8-a859-41f1-9109-c4d9159b6c26",
   "metadata": {},
   "outputs": [],
   "source": [
    "# Export the DataFrame to a CSV file\n",
    "submission_df.to_csv('submission.csv', index=True)"
   ]
  }
 ],
 "metadata": {
  "kernelspec": {
   "display_name": "Python 3 (ipykernel)",
   "language": "python",
   "name": "python3"
  },
  "language_info": {
   "codemirror_mode": {
    "name": "ipython",
    "version": 3
   },
   "file_extension": ".py",
   "mimetype": "text/x-python",
   "name": "python",
   "nbconvert_exporter": "python",
   "pygments_lexer": "ipython3",
   "version": "3.12.4"
  }
 },
 "nbformat": 4,
 "nbformat_minor": 5
}
